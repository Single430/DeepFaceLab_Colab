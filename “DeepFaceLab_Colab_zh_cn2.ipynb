{
  "nbformat": 4,
  "nbformat_minor": 0,
  "metadata": {
    "colab": {
      "name": "“DeepFaceLab_Colab_zh-cn.ipynb”的副本",
      "version": "0.3.2",
      "provenance": [],
      "collapsed_sections": [],
      "toc_visible": true,
      "include_colab_link": true
    },
    "kernelspec": {
      "name": "python3",
      "display_name": "Python 3"
    },
    "accelerator": "GPU"
  },
  "cells": [
    {
      "cell_type": "markdown",
      "metadata": {
        "id": "view-in-github",
        "colab_type": "text"
      },
      "source": [
        "<a href=\"https://colab.research.google.com/github/kinking2008/DeepFaceLab_Colab/blob/master/%E2%80%9CDeepFaceLab_Colab_zh_cn_ipynb%E2%80%9D%E7%9A%84%E5%89%AF%E6%9C%AC.ipynb\" target=\"_parent\"><img src=\"https://colab.research.google.com/assets/colab-badge.svg\" alt=\"Open In Colab\"/></a>"
      ]
    },
    {
      "metadata": {
        "id": "KWQMLYlFrTXz",
        "colab_type": "text"
      },
      "cell_type": "markdown",
      "source": [
        "# 简介\n",
        "\n",
        "无需多说，一路运行即可！\n",
        "\n",
        "此脚本由**托尼是塔克**创建，仅用于学习，请勿商用，请勿用于非法用途，否者后果自负。"
      ]
    },
    {
      "metadata": {
        "id": "ldpC3PjRrYYh",
        "colab_type": "text"
      },
      "cell_type": "markdown",
      "source": [
        "# 第一步 准备好workspace\n",
        "这一部你可以选着两种方式\n",
        "1. 使用默认的workspace，你无需自己上传，仅用于熟悉操作。\n",
        "2. 通过Google Drive （谷歌云盘）上传自己的workspace到指定目录。\n",
        "\n",
        "\n",
        "注意：谷歌网址现在都需要“科学上网”才能访问。"
      ]
    },
    {
      "metadata": {
        "id": "D7toZxhT4J9W",
        "colab_type": "code",
        "cellView": "both",
        "outputId": "38921c03-cfe5-40cb-b89a-7c4cbc7f1869",
        "colab": {
          "base_uri": "https://localhost:8080/",
          "height": 127
        }
      },
      "cell_type": "code",
      "source": [
        "#挂载谷歌云盘\n",
        "#点击链接授权，复制授权码，填入框框，然后回车。\n",
        "\n",
        "from google.colab import drive\n",
        "\n",
        "drive.mount('/content/drive', force_remount=True)"
      ],
      "execution_count": 0,
      "outputs": [
        {
          "output_type": "stream",
          "text": [
            "Go to this URL in a browser: https://accounts.google.com/o/oauth2/auth?client_id=947318989803-6bn6qk8qdgf4n4g3pfee6491hc0brc4i.apps.googleusercontent.com&redirect_uri=urn%3Aietf%3Awg%3Aoauth%3A2.0%3Aoob&scope=email%20https%3A%2F%2Fwww.googleapis.com%2Fauth%2Fdocs.test%20https%3A%2F%2Fwww.googleapis.com%2Fauth%2Fdrive%20https%3A%2F%2Fwww.googleapis.com%2Fauth%2Fdrive.photos.readonly%20https%3A%2F%2Fwww.googleapis.com%2Fauth%2Fpeopleapi.readonly&response_type=code\n",
            "\n",
            "Enter your authorization code:\n",
            "··········\n",
            "Mounted at /content/drive\n"
          ],
          "name": "stdout"
        }
      ]
    },
    {
      "metadata": {
        "id": "rDUpbJYR54dw",
        "colab_type": "code",
        "cellView": "both",
        "colab": {}
      },
      "cell_type": "code",
      "source": [
        "#创建DeepFaceLab目录，并且进入目录\n",
        "%cd /content/drive/My Drive/\n",
        "!mkdir DeepFaceLab\n",
        "%cd /content/drive/My Drive/DeepFaceLab/"
      ],
      "execution_count": 0,
      "outputs": []
    },
    {
      "metadata": {
        "id": "cNsq0I98KvHl",
        "colab_type": "code",
        "colab": {}
      },
      "cell_type": "code",
      "source": [
        "# 下面的1和2 不用同时点，二选一！！！！\n",
        "# 1. 练手可以使用这一行diam，直接git clone一个workspace\n",
        "!git clone https://github.com/dream80/DFLWorkspace.git workspace"
      ],
      "execution_count": 0,
      "outputs": []
    },
    {
      "metadata": {
        "id": "w6ViQYB_Cupc",
        "colab_type": "code",
        "colab": {}
      },
      "cell_type": "code",
      "source": [
        "# 2.正常情况肯定是通过谷歌云盘上传自己的workspace，上传前压缩一下，然后用下面的命令解压。\n",
        "# 注意一定要上传到DeepFaceLab目录下。\n",
        "!unzip workspace.zip\n",
        "\n"
      ],
      "execution_count": 0,
      "outputs": []
    },
    {
      "metadata": {
        "id": "ruBCZNcDH0VL",
        "colab_type": "text"
      },
      "cell_type": "markdown",
      "source": [
        "利用压缩包解压，在谷歌网上上生成缓存，这样训练时，提高训练素材载入速度\n"
      ]
    },
    {
      "metadata": {
        "colab_type": "code",
        "id": "HYB6stjhNMCR",
        "colab": {}
      },
      "cell_type": "code",
      "source": [
        "%cd /content/drive/My Drive/DeepFaceLab/workspace/data_src/\n",
        "!rmdir /content/drive/My Drive/DeepFaceLab/workspace/data_src/aligned\n",
        "!unzip -o -q aligned.zip\n",
        "print(\"aligned解压完成\")"
      ],
      "execution_count": 0,
      "outputs": []
    },
    {
      "metadata": {
        "id": "WTNP6CT9NOnl",
        "colab_type": "code",
        "outputId": "a7ac68f5-2adc-4f0a-9c65-96cc7807020d",
        "colab": {
          "base_uri": "https://localhost:8080/",
          "height": 53
        }
      },
      "cell_type": "code",
      "source": [
        "%cd /content/drive/My Drive/DeepFaceLab/workspace/data_dst/\n",
        "!unzip -o -q aligned.zip\n",
        "print(\"aligned解压完成\")"
      ],
      "execution_count": 0,
      "outputs": [
        {
          "output_type": "stream",
          "text": [
            "/content/drive/My Drive/DeepFaceLab/workspace/data_dst\n",
            "解压完成\n"
          ],
          "name": "stdout"
        }
      ]
    },
    {
      "metadata": {
        "id": "gMiGfdoTZq5_",
        "colab_type": "code",
        "outputId": "b1a466cb-1883-4587-a7cb-fa740751edf3",
        "colab": {
          "base_uri": "https://localhost:8080/",
          "height": 35
        }
      },
      "cell_type": "code",
      "source": [
        "\n",
        "!unzip  -o -q aligned1.zip\n",
        "print(\"aligned1解压完成\")"
      ],
      "execution_count": 0,
      "outputs": [
        {
          "output_type": "stream",
          "text": [
            "aligned1解压完成\n"
          ],
          "name": "stdout"
        }
      ]
    },
    {
      "metadata": {
        "id": "gGroaZ_KZrPx",
        "colab_type": "code",
        "outputId": "1e8fe84b-327c-4abd-859d-28ddb29065ff",
        "colab": {
          "base_uri": "https://localhost:8080/",
          "height": 35
        }
      },
      "cell_type": "code",
      "source": [
        "!unzip  -o -q aligned2.zip\n",
        "print(\"aligned2解压完成\")"
      ],
      "execution_count": 0,
      "outputs": [
        {
          "output_type": "stream",
          "text": [
            "aligned2解压完成\n"
          ],
          "name": "stdout"
        }
      ]
    },
    {
      "metadata": {
        "id": "GQsriE5rZreY",
        "colab_type": "code",
        "outputId": "c6d2af74-aaaa-468f-8793-bcbb9fcebe56",
        "colab": {
          "base_uri": "https://localhost:8080/",
          "height": 35
        }
      },
      "cell_type": "code",
      "source": [
        "!unzip  -o -q aligned3.zip\n",
        "print(\"aligned3解压完成\")"
      ],
      "execution_count": 0,
      "outputs": [
        {
          "output_type": "stream",
          "text": [
            "aligned3解压完成\n"
          ],
          "name": "stdout"
        }
      ]
    },
    {
      "metadata": {
        "id": "wz0ugeBLZrqV",
        "colab_type": "code",
        "outputId": "5b37c52a-42a5-46fe-da87-41f5dd19592b",
        "colab": {
          "base_uri": "https://localhost:8080/",
          "height": 35
        }
      },
      "cell_type": "code",
      "source": [
        "!unzip  -o -q aligned4.zip\n",
        "print(\"aligned4解压完成\")"
      ],
      "execution_count": 0,
      "outputs": [
        {
          "output_type": "stream",
          "text": [
            "aligned4解压完成\n"
          ],
          "name": "stdout"
        }
      ]
    },
    {
      "metadata": {
        "id": "EnmSwZCjZrx1",
        "colab_type": "code",
        "outputId": "db9cbc7d-e5f5-4179-dcde-83189f191c30",
        "colab": {
          "base_uri": "https://localhost:8080/",
          "height": 35
        }
      },
      "cell_type": "code",
      "source": [
        "!unzip  -o -q aligned5.zip\n",
        "print(\"aligned5解压完成\")"
      ],
      "execution_count": 0,
      "outputs": [
        {
          "output_type": "stream",
          "text": [
            "aligned5解压完成\n"
          ],
          "name": "stdout"
        }
      ]
    },
    {
      "metadata": {
        "id": "gEUwp59IZr2f",
        "colab_type": "code",
        "colab": {}
      },
      "cell_type": "code",
      "source": [
        "%cd /content/drive/My Drive/\n",
        "!rmdir --help\n",
        "\n",
        "!rmdir /content/drive/MyDrive/*.jpg \n"
      ],
      "execution_count": 0,
      "outputs": []
    },
    {
      "metadata": {
        "id": "bJzTQktbZsCe",
        "colab_type": "code",
        "colab": {}
      },
      "cell_type": "code",
      "source": [
        ""
      ],
      "execution_count": 0,
      "outputs": []
    },
    {
      "metadata": {
        "id": "yA4nziLPtAf9",
        "colab_type": "text"
      },
      "cell_type": "markdown",
      "source": [
        "#第二步 安装DeepFaceLab\n"
      ]
    },
    {
      "metadata": {
        "id": "4CbWbLzHzqTQ",
        "colab_type": "code",
        "colab": {}
      },
      "cell_type": "code",
      "source": [
        "# 获取DFL源代码v1.1稳定版\n",
        "\n",
        "!git clone -b v1.1 https://github.com/dream80/DeepFaceLab_Colab.git\n",
        "\n",
        "# 获取最新代代码，用这条命令，有风险。\n",
        "#!git clone https://github.com/dream80/DeepFaceLab_Colab.git"
      ],
      "execution_count": 0,
      "outputs": []
    },
    {
      "metadata": {
        "id": "5MzbdSPEzsF6",
        "colab_type": "code",
        "colab": {}
      },
      "cell_type": "code",
      "source": [
        "# 进入DeepFaceLab_Colab目录\n",
        "%cd /content/drive/My Drive/DeepFaceLab/DeepFaceLab_Colab\n",
        "\n",
        "#获取最新源代码\n",
        "#!git pull\n"
      ],
      "execution_count": 0,
      "outputs": []
    },
    {
      "metadata": {
        "id": "yd11UhiUvUfP",
        "colab_type": "code",
        "cellView": "both",
        "colab": {}
      },
      "cell_type": "code",
      "source": [
        "# 安装Python依赖\n",
        "!pip install -r requirements_colab.txt\n",
        "!pip install --upgrade scikit-image"
      ],
      "execution_count": 0,
      "outputs": []
    },
    {
      "metadata": {
        "id": "9G9s5gJrty-x",
        "colab_type": "text"
      },
      "cell_type": "markdown",
      "source": [
        "# 第三步. 提取脸部"
      ]
    },
    {
      "metadata": {
        "id": "97VTmSmkEk2j",
        "colab_type": "code",
        "cellView": "both",
        "colab": {}
      },
      "cell_type": "code",
      "source": [
        "# 确保路径正确，进入DeepFaceLab_Colab\n",
        "\n",
        "%cd /content/drive/My Drive/DeepFaceLab/DeepFaceLab_Colab"
      ],
      "execution_count": 0,
      "outputs": []
    },
    {
      "metadata": {
        "id": "w8qxq7jAxGrQ",
        "colab_type": "code",
        "cellView": "both",
        "colab": {}
      },
      "cell_type": "code",
      "source": [
        "#Src 视频转图片\n",
        "\n",
        "!python main.py videoed extract-video --input-file ../workspace/data_src.mp4 --output-dir ../workspace/data_src/"
      ],
      "execution_count": 0,
      "outputs": []
    },
    {
      "metadata": {
        "id": "hpTukPbSxbGP",
        "colab_type": "code",
        "cellView": "both",
        "colab": {}
      },
      "cell_type": "code",
      "source": [
        "#Src 提取脸部图片\n",
        "\n",
        "!python main.py extract --input-dir ../workspace/data_src --output-dir ../workspace/data_src/aligned --detector s3fd --debug-dir ../workspace/data_src/aligned_debug"
      ],
      "execution_count": 0,
      "outputs": []
    },
    {
      "metadata": {
        "id": "kWQsUODU8Ftg",
        "colab_type": "code",
        "cellView": "both",
        "colab": {}
      },
      "cell_type": "code",
      "source": [
        "#Src排序，可以通过谷歌云盘查看结果，删除不良图片\n",
        "\n",
        "!python main.py sort --input-dir ../workspace/data_src/aligned --by hist"
      ],
      "execution_count": 0,
      "outputs": []
    },
    {
      "metadata": {
        "id": "z35vHpqaw8t-",
        "colab_type": "code",
        "cellView": "both",
        "colab": {}
      },
      "cell_type": "code",
      "source": [
        "#Dst视频转图片\n",
        "\n",
        "!python main.py videoed extract-video --input-file ../workspace/data_dst.mp4 --output-dir ../workspace/data_dst/"
      ],
      "execution_count": 0,
      "outputs": []
    },
    {
      "metadata": {
        "id": "EbAY9bJvxDBK",
        "colab_type": "code",
        "cellView": "both",
        "colab": {}
      },
      "cell_type": "code",
      "source": [
        "#Dst提取脸部图片\n",
        "\n",
        "!python main.py extract --input-dir ../workspace/data_dst --output-dir ../workspace/data_dst/aligned --detector s3fd --debug-dir ../workspace/data_dst/aligned_debug"
      ],
      "execution_count": 0,
      "outputs": []
    },
    {
      "metadata": {
        "id": "PJs_yo-F8IBS",
        "colab_type": "code",
        "cellView": "both",
        "colab": {}
      },
      "cell_type": "code",
      "source": [
        "#Dst排序，可以通过谷歌云盘查看结果，删除不良图片\n",
        "\n",
        "!python main.py sort --input-dir ../workspace/data_dst/aligned --by hist"
      ],
      "execution_count": 0,
      "outputs": []
    },
    {
      "metadata": {
        "id": "QxO1kNO_uRTF",
        "colab_type": "text"
      },
      "cell_type": "markdown",
      "source": [
        "# 第四步. 训练模型\n",
        "\n",
        "\n",
        "*  支持H128,SAE,DF, LIAEF128等模型，根据自己的情况选择模型。\n",
        "*  训练开始是需要配置参数，记得开启预览，其他参数根据自己情况选择，使用默认参数的话直接回车即可。\n",
        "*  不想训练了可以点击停止，停止时会抛出异常，但是没什么关系。下次可以继续训练\n",
        "*  如果想要查看history ，先停止训练，然后点击下面第三段代码"
      ]
    },
    {
      "metadata": {
        "id": "7n3ZpkQd-dZj",
        "colab_type": "code",
        "outputId": "71d84c27-26d0-4491-f4da-0fc94619b59e",
        "colab": {
          "base_uri": "https://localhost:8080/",
          "height": 35
        }
      },
      "cell_type": "code",
      "source": [
        "# 确保路径正确，进入DeepFaceLab_Colab\n",
        "\n",
        "%cd /content/drive/My Drive/DeepFaceLab/DeepFaceLab_Colab"
      ],
      "execution_count": 0,
      "outputs": [
        {
          "output_type": "stream",
          "text": [
            "/content/drive/My Drive/DeepFaceLab/DeepFaceLab_Colab\n"
          ],
          "name": "stdout"
        }
      ]
    },
    {
      "metadata": {
        "id": "MX9pNbD8-jNA",
        "colab_type": "text"
      },
      "cell_type": "markdown",
      "source": [
        "**下面是启动模型训练的脚本，不要全部点，只要点其中一个。默认使用第一个SAE**"
      ]
    },
    {
      "metadata": {
        "id": "NvP37RbjsN8V",
        "colab_type": "code",
        "colab": {}
      },
      "cell_type": "code",
      "source": [
        "# Running trainer. SAE \n",
        "\n",
        "!python main.py train --training-data-src-dir ../workspace/data_src/aligned --training-data-dst-dir ../workspace/data_dst/aligned --model-dir ../workspace/model --model SAE --no-preview"
      ],
      "execution_count": 0,
      "outputs": []
    },
    {
      "metadata": {
        "id": "JOxI3qTaxr4x",
        "colab_type": "code",
        "cellView": "both",
        "outputId": "6f932773-8a28-4900-95c1-75f0f39d07ec",
        "colab": {
          "base_uri": "https://localhost:8080/",
          "height": 775
        }
      },
      "cell_type": "code",
      "source": [
        "# Running trainer  H128\n",
        "\n",
        "!python main.py train --training-data-src-dir ../workspace/data_src/aligned --training-data-dst-dir ../workspace/data_dst/aligned --model-dir ../workspace/model --model H128 --no-preview"
      ],
      "execution_count": 0,
      "outputs": [
        {
          "output_type": "stream",
          "text": [
            "Running trainer.\r\n",
            "\n",
            "Loading model...\n",
            "Press enter in 2 seconds to override model settings./usr/lib/python3.6/multiprocessing/semaphore_tracker.py:143: UserWarning: semaphore_tracker: There appear to be 1 leaked semaphores to clean up at shutdown\n",
            "  len(cache))\n",
            "Using TensorFlow backend.\n",
            "WARNING:tensorflow:From /usr/local/lib/python3.6/dist-packages/tensorflow/python/framework/op_def_library.py:263: colocate_with (from tensorflow.python.framework.ops) is deprecated and will be removed in a future version.\n",
            "Instructions for updating:\n",
            "Colocations handled automatically by placer.\n",
            "Loading: 100% 7102/7102 [00:45<00:00, 156.80it/s]\n",
            "Loading: 100% 17869/17869 [02:47<00:00, 106.40it/s]\n",
            "===== Model summary =====\n",
            "== Model name: H128\n",
            "==\n",
            "== Current iteration: 1732769\n",
            "==\n",
            "== Model options:\n",
            "== |== batch_size : 32\n",
            "== |== sort_by_yaw : False\n",
            "== |== random_flip : True\n",
            "== |== lighter_ae : True\n",
            "== |== pixel_loss : False\n",
            "== Running on:\n",
            "== |== [0 : Tesla T4]\n",
            "=========================\n",
            "Starting. Press \"Enter\" to stop training and save model.\n",
            "WARNING:tensorflow:From /usr/local/lib/python3.6/dist-packages/tensorflow/python/ops/math_ops.py:3066: to_int32 (from tensorflow.python.ops.math_ops) is deprecated and will be removed in a future version.\n",
            "Instructions for updating:\n",
            "Use tf.cast instead.\n",
            "[07:30:00][#1733347][0859ms][0.2745][0.2961]\n",
            "[07:45:05][#1733936][0877ms][0.2740][0.2944]\n",
            "[08:00:09][#1734538][0856ms][0.2755][0.2954]\n",
            "Done.\n",
            "/usr/lib/python3.6/multiprocessing/semaphore_tracker.py:143: UserWarning: semaphore_tracker: There appear to be 1 leaked semaphores to clean up at shutdown\n",
            "  len(cache))\n",
            "/usr/lib/python3.6/multiprocessing/semaphore_tracker.py:143: UserWarning: semaphore_tracker: There appear to be 1 leaked semaphores to clean up at shutdown\n",
            "  len(cache))\n",
            "/usr/lib/python3.6/multiprocessing/semaphore_tracker.py:143: UserWarning: semaphore_tracker: There appear to be 1 leaked semaphores to clean up at shutdown\n",
            "  len(cache))\n",
            "/usr/lib/python3.6/multiprocessing/semaphore_tracker.py:143: UserWarning: semaphore_tracker: There appear to be 1 leaked semaphores to clean up at shutdown\n",
            "  len(cache))\n"
          ],
          "name": "stdout"
        }
      ]
    },
    {
      "metadata": {
        "id": "11ixfqJTfSjH",
        "colab_type": "code",
        "colab": {}
      },
      "cell_type": "code",
      "source": [
        ""
      ],
      "execution_count": 0,
      "outputs": []
    },
    {
      "metadata": {
        "id": "HkjlaeiO0wFc",
        "colab_type": "code",
        "colab": {}
      },
      "cell_type": "code",
      "source": [
        "# Running trainer. DF \n",
        "\n",
        "!python main.py train --training-data-src-dir ../workspace/data_src/aligned --training-data-dst-dir ../workspace/data_dst/aligned --model-dir ../workspace/model --model DF --no-preview"
      ],
      "execution_count": 0,
      "outputs": []
    },
    {
      "metadata": {
        "id": "nEUQhEc21KEV",
        "colab_type": "code",
        "colab": {}
      },
      "cell_type": "code",
      "source": [
        "# Running trainer. LIAEF128 \n",
        "\n",
        "!python main.py train --training-data-src-dir ../workspace/data_src/aligned --training-data-dst-dir ../workspace/data_dst/aligned --model-dir ../workspace/model --model LIAEF128 --no-preview"
      ],
      "execution_count": 0,
      "outputs": []
    },
    {
      "metadata": {
        "id": "oVfZpBR00gBG",
        "colab_type": "text"
      },
      "cell_type": "markdown",
      "source": [
        "**模型预览请使用独立的colab脚本：**\n",
        "https://github.com/dream80/DeepFaceLab_Colab/blob/master/ViewLastHistory.ipynb\n"
      ]
    },
    {
      "metadata": {
        "id": "m2Ba96cVuS0K",
        "colab_type": "text"
      },
      "cell_type": "markdown",
      "source": [
        "# 第五步. 转换输出\n",
        "\n",
        "默认使用SAE进行转换，如果需要其他模型，请修改命令中的参数。\n",
        "\n",
        "比如将 --model SAE 修改为 --model H128"
      ]
    },
    {
      "metadata": {
        "id": "__aUSMa80-_M",
        "colab_type": "code",
        "cellView": "both",
        "colab": {}
      },
      "cell_type": "code",
      "source": [
        "#用src中的脸替换dst的脸 \n",
        "!python main.py convert --input-dir ../workspace/data_dst --output-dir ../workspace/data_dst/merged --aligned-dir ../workspace/data_dst/aligned --model-dir ../workspace/model --model SAE"
      ],
      "execution_count": 0,
      "outputs": []
    },
    {
      "metadata": {
        "id": "symb8EIc1Csf",
        "colab_type": "code",
        "cellView": "both",
        "colab": {}
      },
      "cell_type": "code",
      "source": [
        "#把替换好的图片转换成视频\n",
        "\n",
        "!python main.py videoed video-from-sequence --input-dir ../workspace/data_dst/merged --output-file ../workspace/result.mp4 --reference-file ../workspace/data_dst.mp4"
      ],
      "execution_count": 0,
      "outputs": []
    },
    {
      "metadata": {
        "id": "cVfp8xbY5ykL",
        "colab_type": "text"
      },
      "cell_type": "markdown",
      "source": [
        "#第六步. 继续训练\n",
        "当你第二次开始训练，或者掉线之后继续训练时并不需要执行上面所有的步骤。只需要下面简单的几个步骤。\n",
        "1. 挂载云盘\n",
        "2. 安装依赖\n",
        "3. 开始训练"
      ]
    },
    {
      "metadata": {
        "id": "veL_8afb6WcP",
        "colab_type": "code",
        "colab": {}
      },
      "cell_type": "code",
      "source": [
        "#挂载谷歌云盘\n",
        "#点击链接授权，复制授权码，填入框框，然后回车。\n",
        "\n",
        "from google.colab import drive\n",
        "drive.mount('/content/drive', force_remount=True)\n",
        "\n",
        "# 进入DeepFaceLab_Colab目录\n",
        "%cd /content/drive/My Drive/DeepFaceLab/DeepFaceLab_Colab\n",
        "\n",
        "# 安装Python依赖\n",
        "!pip install -r requirements_colab.txt\n",
        "!pip install --upgrade scikit-image\n",
        "\n",
        "# 开始训练SAE ，如果是其他模型，修改后面的参数即可。\n",
        "\n",
        "!python main.py train --training-data-src-dir ../workspace/data_src/aligned --training-data-dst-dir ../workspace/data_dst/aligned --model-dir ../workspace/model --model SAE --no-preview"
      ],
      "execution_count": 0,
      "outputs": []
    },
    {
      "metadata": {
        "id": "5H85SsIW1PI3",
        "colab_type": "text"
      },
      "cell_type": "markdown",
      "source": [
        "# 其他\n",
        "\n",
        " 谷歌云地址：https://drive.google.com/drive/my-drive\n",
        "\n",
        " 作者邮箱 ：wpgdream@gmail.com\n",
        " \n",
        " 使用教程：http://deepfakescn.com\n",
        " \n",
        " 工具脚本：https://github.com/dream80/DeepFaceLab_Colab/blob/master/Tools.ipynb\n",
        " \n",
        " \n",
        "不求别的，只求在github给个小星星^_^\n",
        "\n",
        "https://github.com/dream80/DeepFaceLab_Colab\n",
        "\n",
        "右上角star 谢谢!!!"
      ]
    }
  ]
}
